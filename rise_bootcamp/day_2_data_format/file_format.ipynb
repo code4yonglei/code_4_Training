{
 "cells": [
  {
   "cell_type": "markdown",
   "id": "97d148a2",
   "metadata": {},
   "source": [
    "# File format"
   ]
  },
  {
   "cell_type": "code",
   "execution_count": 2,
   "id": "cffa08f0",
   "metadata": {},
   "outputs": [],
   "source": [
    "proj_lang = {\n",
    "    \"proj_a\" : {'lang':'Python', 'city':'Stockholm', 'start':2022},\n",
    "    \"proj_b\" : {'lang':'C/C++', 'city':'Uppsala', 'start':2023},\n",
    "    \"proj_c\" : {'lang':'Julia', 'city':'Linkoping', 'start':2024}\n",
    "}"
   ]
  },
  {
   "cell_type": "code",
   "execution_count": 3,
   "id": "16fa1e45",
   "metadata": {},
   "outputs": [
    {
     "data": {
      "text/plain": [
       "dict"
      ]
     },
     "execution_count": 3,
     "metadata": {},
     "output_type": "execute_result"
    }
   ],
   "source": [
    "type(proj_lang)"
   ]
  },
  {
   "cell_type": "code",
   "execution_count": 5,
   "id": "0df456ba",
   "metadata": {},
   "outputs": [],
   "source": [
    "with open('proj_info.txt','w') as data:\n",
    "      data.write(str(proj_lang))"
   ]
  },
  {
   "cell_type": "code",
   "execution_count": 6,
   "id": "49f89d7c",
   "metadata": {},
   "outputs": [
    {
     "name": "stdout",
     "output_type": "stream",
     "text": [
      "{'proj_a': {'lang': 'Python', 'city': 'Stockholm', 'start': 2022}, 'proj_b': {'lang': 'C/C++', 'city': 'Uppsala', 'start': 2023}, 'proj_c': {'lang': 'Julia', 'city': 'Linkoping', 'start': 2024}}\n"
     ]
    },
    {
     "data": {
      "text/plain": [
       "str"
      ]
     },
     "execution_count": 6,
     "metadata": {},
     "output_type": "execute_result"
    }
   ],
   "source": [
    "with open(\"proj_info.txt\", 'r') as file:\n",
    "    for information in file:\n",
    "        print(information)\n",
    "\n",
    "type(temp)"
   ]
  },
  {
   "cell_type": "markdown",
   "id": "74e73a0d",
   "metadata": {},
   "source": [
    "# Pickle"
   ]
  },
  {
   "cell_type": "code",
   "execution_count": 7,
   "id": "743d8923",
   "metadata": {},
   "outputs": [],
   "source": [
    "import pickle \n",
    "\n",
    "langs = ['Python', 'C/C++', 'Julia', 'Fortran', 'Rust']"
   ]
  },
  {
   "cell_type": "code",
   "execution_count": null,
   "id": "82e7cdce",
   "metadata": {},
   "outputs": [],
   "source": []
  }
 ],
 "metadata": {
  "kernelspec": {
   "display_name": "Python 3 (ipykernel)",
   "language": "python",
   "name": "python3"
  },
  "language_info": {
   "codemirror_mode": {
    "name": "ipython",
    "version": 3
   },
   "file_extension": ".py",
   "mimetype": "text/x-python",
   "name": "python",
   "nbconvert_exporter": "python",
   "pygments_lexer": "ipython3",
   "version": "3.10.9"
  }
 },
 "nbformat": 4,
 "nbformat_minor": 5
}
