{
 "cells": [
  {
   "cell_type": "markdown",
   "id": "e2f6d368",
   "metadata": {},
   "source": [
    "# What is a data format?"
   ]
  },
  {
   "cell_type": "markdown",
   "id": "17815b7b",
   "metadata": {},
   "source": [
    "## Case I: "
   ]
  },
  {
   "cell_type": "code",
   "execution_count": 8,
   "id": "67732912",
   "metadata": {},
   "outputs": [],
   "source": [
    "import pandas as pd\n",
    "import numpy as np\n",
    "\n",
    "n_rows = 100"
   ]
  },
  {
   "cell_type": "code",
   "execution_count": 16,
   "id": "3847d91d",
   "metadata": {},
   "outputs": [],
   "source": [
    "dataset = pd.DataFrame(\n",
    "    data={\n",
    "        'string': np.random.choice(('Python', 'C/C++', 'Julia', 'Fortran', 'Rust'), size=n_rows),\n",
    "        'timestamp': pd.date_range(\"20231107\", periods=n_rows, freq=\"s\"),\n",
    "        'integer': np.random.choice(range(0,10), size=n_rows),\n",
    "        'float': np.random.uniform(size=n_rows),\n",
    "    },\n",
    ")"
   ]
  },
  {
   "cell_type": "code",
   "execution_count": 17,
   "id": "ad389743",
   "metadata": {},
   "outputs": [
    {
     "name": "stdout",
     "output_type": "stream",
     "text": [
      "<class 'pandas.core.frame.DataFrame'>\n",
      "RangeIndex: 100 entries, 0 to 99\n",
      "Data columns (total 4 columns):\n",
      " #   Column     Non-Null Count  Dtype         \n",
      "---  ------     --------------  -----         \n",
      " 0   string     100 non-null    object        \n",
      " 1   timestamp  100 non-null    datetime64[ns]\n",
      " 2   integer    100 non-null    int64         \n",
      " 3   float      100 non-null    float64       \n",
      "dtypes: datetime64[ns](1), float64(1), int64(1), object(1)\n",
      "memory usage: 3.2+ KB\n"
     ]
    }
   ],
   "source": [
    "dataset.info()"
   ]
  },
  {
   "cell_type": "code",
   "execution_count": 18,
   "id": "0dfc0aed",
   "metadata": {},
   "outputs": [
    {
     "data": {
      "text/html": [
       "<div>\n",
       "<style scoped>\n",
       "    .dataframe tbody tr th:only-of-type {\n",
       "        vertical-align: middle;\n",
       "    }\n",
       "\n",
       "    .dataframe tbody tr th {\n",
       "        vertical-align: top;\n",
       "    }\n",
       "\n",
       "    .dataframe thead th {\n",
       "        text-align: right;\n",
       "    }\n",
       "</style>\n",
       "<table border=\"1\" class=\"dataframe\">\n",
       "  <thead>\n",
       "    <tr style=\"text-align: right;\">\n",
       "      <th></th>\n",
       "      <th>string</th>\n",
       "      <th>timestamp</th>\n",
       "      <th>integer</th>\n",
       "      <th>float</th>\n",
       "    </tr>\n",
       "  </thead>\n",
       "  <tbody>\n",
       "    <tr>\n",
       "      <th>0</th>\n",
       "      <td>Fortran</td>\n",
       "      <td>2023-11-07 00:00:00</td>\n",
       "      <td>0</td>\n",
       "      <td>0.634641</td>\n",
       "    </tr>\n",
       "    <tr>\n",
       "      <th>1</th>\n",
       "      <td>Fortran</td>\n",
       "      <td>2023-11-07 00:00:01</td>\n",
       "      <td>7</td>\n",
       "      <td>0.001826</td>\n",
       "    </tr>\n",
       "    <tr>\n",
       "      <th>2</th>\n",
       "      <td>C/C++</td>\n",
       "      <td>2023-11-07 00:00:02</td>\n",
       "      <td>7</td>\n",
       "      <td>0.114740</td>\n",
       "    </tr>\n",
       "    <tr>\n",
       "      <th>3</th>\n",
       "      <td>Julia</td>\n",
       "      <td>2023-11-07 00:00:03</td>\n",
       "      <td>9</td>\n",
       "      <td>0.578025</td>\n",
       "    </tr>\n",
       "    <tr>\n",
       "      <th>4</th>\n",
       "      <td>Python</td>\n",
       "      <td>2023-11-07 00:00:04</td>\n",
       "      <td>1</td>\n",
       "      <td>0.405944</td>\n",
       "    </tr>\n",
       "    <tr>\n",
       "      <th>...</th>\n",
       "      <td>...</td>\n",
       "      <td>...</td>\n",
       "      <td>...</td>\n",
       "      <td>...</td>\n",
       "    </tr>\n",
       "    <tr>\n",
       "      <th>95</th>\n",
       "      <td>Python</td>\n",
       "      <td>2023-11-07 00:01:35</td>\n",
       "      <td>2</td>\n",
       "      <td>0.282449</td>\n",
       "    </tr>\n",
       "    <tr>\n",
       "      <th>96</th>\n",
       "      <td>Fortran</td>\n",
       "      <td>2023-11-07 00:01:36</td>\n",
       "      <td>0</td>\n",
       "      <td>0.333599</td>\n",
       "    </tr>\n",
       "    <tr>\n",
       "      <th>97</th>\n",
       "      <td>Fortran</td>\n",
       "      <td>2023-11-07 00:01:37</td>\n",
       "      <td>0</td>\n",
       "      <td>0.759160</td>\n",
       "    </tr>\n",
       "    <tr>\n",
       "      <th>98</th>\n",
       "      <td>Python</td>\n",
       "      <td>2023-11-07 00:01:38</td>\n",
       "      <td>2</td>\n",
       "      <td>0.766642</td>\n",
       "    </tr>\n",
       "    <tr>\n",
       "      <th>99</th>\n",
       "      <td>Julia</td>\n",
       "      <td>2023-11-07 00:01:39</td>\n",
       "      <td>1</td>\n",
       "      <td>0.437558</td>\n",
       "    </tr>\n",
       "  </tbody>\n",
       "</table>\n",
       "<p>100 rows × 4 columns</p>\n",
       "</div>"
      ],
      "text/plain": [
       "     string           timestamp  integer     float\n",
       "0   Fortran 2023-11-07 00:00:00        0  0.634641\n",
       "1   Fortran 2023-11-07 00:00:01        7  0.001826\n",
       "2     C/C++ 2023-11-07 00:00:02        7  0.114740\n",
       "3     Julia 2023-11-07 00:00:03        9  0.578025\n",
       "4    Python 2023-11-07 00:00:04        1  0.405944\n",
       "..      ...                 ...      ...       ...\n",
       "95   Python 2023-11-07 00:01:35        2  0.282449\n",
       "96  Fortran 2023-11-07 00:01:36        0  0.333599\n",
       "97  Fortran 2023-11-07 00:01:37        0  0.759160\n",
       "98   Python 2023-11-07 00:01:38        2  0.766642\n",
       "99    Julia 2023-11-07 00:01:39        1  0.437558\n",
       "\n",
       "[100 rows x 4 columns]"
      ]
     },
     "execution_count": 18,
     "metadata": {},
     "output_type": "execute_result"
    }
   ],
   "source": [
    "dataset"
   ]
  },
  {
   "cell_type": "markdown",
   "id": "2c357be5",
   "metadata": {},
   "source": [
    "## Case 2: 2D matrix"
   ]
  },
  {
   "cell_type": "code",
   "execution_count": 19,
   "id": "e36bbc6c",
   "metadata": {},
   "outputs": [],
   "source": [
    "n = 100\n",
    "data_array = np.random.uniform(size=(n,n))"
   ]
  },
  {
   "cell_type": "code",
   "execution_count": 20,
   "id": "2194f33a",
   "metadata": {},
   "outputs": [
    {
     "name": "stdout",
     "output_type": "stream",
     "text": [
      "class:  ndarray\n",
      "shape:  (100, 100)\n",
      "strides:  (800, 8)\n",
      "itemsize:  8\n",
      "aligned:  True\n",
      "contiguous:  True\n",
      "fortran:  False\n",
      "data pointer: 0x140020000\n",
      "byteorder:  little\n",
      "byteswap:  False\n",
      "type: float64\n"
     ]
    }
   ],
   "source": [
    "np.info(data_array)"
   ]
  },
  {
   "cell_type": "code",
   "execution_count": 21,
   "id": "3aa042e7",
   "metadata": {},
   "outputs": [
    {
     "data": {
      "text/plain": [
       "array([[0.28303496, 0.70843689, 0.4309124 , ..., 0.51446222, 0.00713   ,\n",
       "        0.63779384],\n",
       "       [0.08809756, 0.01884374, 0.85819073, ..., 0.29235972, 0.81018363,\n",
       "        0.69150837],\n",
       "       [0.60195347, 0.34034241, 0.57086168, ..., 0.78043109, 0.65859562,\n",
       "        0.33830469],\n",
       "       ...,\n",
       "       [0.22928022, 0.73933857, 0.57757929, ..., 0.06952004, 0.89505493,\n",
       "        0.02617919],\n",
       "       [0.5063388 , 0.19247913, 0.16035285, ..., 0.02940962, 0.775732  ,\n",
       "        0.24748265],\n",
       "       [0.5236153 , 0.25298661, 0.64985373, ..., 0.52898199, 0.52116539,\n",
       "        0.2071039 ]])"
      ]
     },
     "execution_count": 21,
     "metadata": {},
     "output_type": "execute_result"
    }
   ],
   "source": [
    "data_array"
   ]
  },
  {
   "cell_type": "code",
   "execution_count": 26,
   "id": "ad6184e7",
   "metadata": {},
   "outputs": [
    {
     "name": "stdout",
     "output_type": "stream",
     "text": [
      "10000\n",
      "(100, 100)\n"
     ]
    }
   ],
   "source": [
    "print(data_array.size)\n",
    "print(data_array.shape)"
   ]
  },
  {
   "cell_type": "code",
   "execution_count": 27,
   "id": "33cf711a",
   "metadata": {},
   "outputs": [
    {
     "name": "stdout",
     "output_type": "stream",
     "text": [
      "class:  ndarray\n",
      "shape:  (100, 100)\n",
      "strides:  (800, 8)\n",
      "itemsize:  8\n",
      "aligned:  True\n",
      "contiguous:  True\n",
      "fortran:  False\n",
      "data pointer: 0x140020000\n",
      "byteorder:  little\n",
      "byteswap:  False\n",
      "type: float64\n"
     ]
    }
   ],
   "source": [
    "np.info(data_array)"
   ]
  },
  {
   "cell_type": "markdown",
   "id": "585baf03",
   "metadata": {},
   "source": [
    "# File format"
   ]
  },
  {
   "cell_type": "code",
   "execution_count": null,
   "id": "12ef8ca4",
   "metadata": {},
   "outputs": [],
   "source": []
  }
 ],
 "metadata": {
  "kernelspec": {
   "display_name": "Python 3 (ipykernel)",
   "language": "python",
   "name": "python3"
  },
  "language_info": {
   "codemirror_mode": {
    "name": "ipython",
    "version": 3
   },
   "file_extension": ".py",
   "mimetype": "text/x-python",
   "name": "python",
   "nbconvert_exporter": "python",
   "pygments_lexer": "ipython3",
   "version": "3.10.9"
  }
 },
 "nbformat": 4,
 "nbformat_minor": 5
}
