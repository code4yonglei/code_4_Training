{
 "cells": [
  {
   "cell_type": "markdown",
   "id": "874dd3f6",
   "metadata": {},
   "source": [
    "# Introduction to Python --- Dictionary"
   ]
  },
  {
   "cell_type": "code",
   "execution_count": null,
   "id": "29fc9de0",
   "metadata": {},
   "outputs": [],
   "source": []
  },
  {
   "cell_type": "code",
   "execution_count": null,
   "id": "d00cfcef",
   "metadata": {},
   "outputs": [],
   "source": []
  },
  {
   "cell_type": "code",
   "execution_count": null,
   "id": "d48fd1f8",
   "metadata": {},
   "outputs": [],
   "source": []
  },
  {
   "cell_type": "markdown",
   "id": "aaf62e11",
   "metadata": {},
   "source": [
    "# Introduction to Python --- Set"
   ]
  },
  {
   "cell_type": "code",
   "execution_count": null,
   "id": "d2e771c3",
   "metadata": {},
   "outputs": [],
   "source": []
  }
 ],
 "metadata": {
  "kernelspec": {
   "display_name": "Python 3 (ipykernel)",
   "language": "python",
   "name": "python3"
  },
  "language_info": {
   "codemirror_mode": {
    "name": "ipython",
    "version": 3
   },
   "file_extension": ".py",
   "mimetype": "text/x-python",
   "name": "python",
   "nbconvert_exporter": "python",
   "pygments_lexer": "ipython3",
   "version": "3.10.9"
  }
 },
 "nbformat": 4,
 "nbformat_minor": 5
}
