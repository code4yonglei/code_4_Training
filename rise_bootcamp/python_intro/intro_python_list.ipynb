{
 "cells": [
  {
   "cell_type": "markdown",
   "id": "9ff9342d",
   "metadata": {},
   "source": [
    "# Introduction to Python --- List"
   ]
  },
  {
   "cell_type": "code",
   "execution_count": 103,
   "id": "46c9e925",
   "metadata": {},
   "outputs": [
    {
     "name": "stdout",
     "output_type": "stream",
     "text": [
      "['Python', 'Fortran', 'C', 'Julia', 'Java']\n",
      "<class 'list'>\n"
     ]
    }
   ],
   "source": [
    "langs = ['Python', 'Fortran', 'C', 'Julia', 'Java']\n",
    "projs = ['ProjA', 'ProjB', 'ProjC', 'ProjD', 'ProjE']\n",
    "print(langs)\n",
    "print(type(langs))"
   ]
  },
  {
   "cell_type": "code",
   "execution_count": 104,
   "id": "f5c3089e",
   "metadata": {},
   "outputs": [
    {
     "name": "stdout",
     "output_type": "stream",
     "text": [
      "['Python', 'C++', 'Fortran', 'Julia', 'Rust']\n",
      "['a', 'b', 'c', 'd', 'e', 'f']\n"
     ]
    }
   ],
   "source": [
    "str_a = 'Python/C++/Fortran/Julia/Rust'\n",
    "lst_lang = str_a.split('/')\n",
    "print(lst_lang)\n",
    "\n",
    "str_b = 'abcdef'\n",
    "lst_char = list(str_b)\n",
    "print(lst_char)"
   ]
  },
  {
   "cell_type": "code",
   "execution_count": 105,
   "id": "0c72d719",
   "metadata": {},
   "outputs": [
    {
     "name": "stdout",
     "output_type": "stream",
     "text": [
      "[0, 1, 2, 3, 4, 5, 6, 7, 8]\n",
      "[0, 2, 4, 6, 8]\n",
      "[0, -1, 2, -3, 4, -5, 6, -7, 8]\n"
     ]
    }
   ],
   "source": [
    "# using list comprehension\n",
    "lst_a = [x for x in range(9)]\n",
    "print(lst_a)\n",
    "lst_b = [x for x in range(9) if x%2 == 0]\n",
    "print(lst_b)\n",
    "lst_c = [x if x%2 == 0 else -x for x in range(9)]\n",
    "print(lst_c)"
   ]
  },
  {
   "cell_type": "code",
   "execution_count": 106,
   "id": "d7812fb3",
   "metadata": {},
   "outputs": [
    {
     "name": "stdout",
     "output_type": "stream",
     "text": [
      "['Python 2.7', 'Python 3.6', 'Python 3.12']\n",
      "Python 3.6\n",
      "\n",
      "[['C', 'Python', 'Fortran'], ['VerA', 'VerB', 'VerC']]\n",
      "\n",
      "[['C', 'VerA'], ['C', 'VerB'], ['C', 'VerC'], ['Python', 'VerA'], ['Python', 'VerB'], ['Python', 'VerC'], ['Fortran', 'VerA'], ['Fortran', 'VerB'], ['Fortran', 'VerC']]\n",
      "\n",
      "[('C', 'VerA'), ('Python', 'VerB'), ('Fortran', 'VerC')]\n"
     ]
    }
   ],
   "source": [
    "# nested list\n",
    "langs = [\n",
    "    ['C 89', 'C 99', 'C 11', 'C17'], \n",
    "    ['Python 2.7', 'Python 3.6', 'Python 3.12'], \n",
    "    ['Fortran 77', 'Fortran 90', 'Fortran 03']\n",
    "]\n",
    "print(langs[1])\n",
    "print(langs[1][1])\n",
    "print()\n",
    "\n",
    "langs = ['C', 'Python', 'Fortran']\n",
    "vers = ['VerA', 'VerB', 'VerC']\n",
    "lang_ver_1 = [langs, vers]\n",
    "print(lang_ver_1, end='\\n\\n')\n",
    "lang_ver_2 = [[lang, ver] for lang in langs for ver in vers]\n",
    "print(lang_ver_2, end='\\n\\n')\n",
    "lang_ver_3 = list(zip(langs, vers))\n",
    "print(lang_ver_3)"
   ]
  },
  {
   "cell_type": "markdown",
   "id": "cffe482a",
   "metadata": {},
   "source": [
    "## Methods for List"
   ]
  },
  {
   "cell_type": "code",
   "execution_count": 107,
   "id": "346fa0e8",
   "metadata": {},
   "outputs": [
    {
     "name": "stdout",
     "output_type": "stream",
     "text": [
      "[1, 3, 5, 7, 9, 11, 13, 15, 17, 19]\n",
      "[3, 5, 7, 9, 11]\n",
      "[11, 13, 15, 17, 19]\n"
     ]
    }
   ],
   "source": [
    "# slicing\n",
    "lst_a = [x for x in range(20) if x%2 == 1]\n",
    "print(lst_a)\n",
    "print(lst_a[1:6])\n",
    "print(lst_a[5:])"
   ]
  },
  {
   "cell_type": "code",
   "execution_count": 108,
   "id": "d011b913",
   "metadata": {},
   "outputs": [
    {
     "name": "stdout",
     "output_type": "stream",
     "text": [
      "[1, 3, 5, 7, 9, 11, 13, 15, 17, 19, 21]\n",
      "[1, 3, 5, 7, 9, 11, 13, 15, 17, 19, 21, 23]\n",
      "[-1, 1, 3, 5, 7, 9, 11, 13, 15, 17, 19, 21, 23]\n",
      "[-1, 1, 3, 5, 7, 100, 9, 11, 13, 15, 17, 19, 21, 23]\n",
      "\n",
      "[-1, 1, 3, 5, 7, 100, 9, 11, 13, 15, 17, 19, 21]\n",
      "[-1, 1, 3, 5, 7, 100, 9, 11, 13, 15, 17, 19]\n",
      "[1, 3, 5, 7, 100, 9, 11, 13, 15, 17, 19]\n",
      "\n",
      "[1, 3, 5, 7, 9, 11, 13, 15, 17, 19]\n",
      "[1, 3, 5, 7, 9, 13, 15, 17, 19]\n",
      "\n",
      "[1, 3, 5, 9, 13, 15, 17, 19]\n",
      "[1, 3, 5, 9, 13, 17, 19]\n"
     ]
    }
   ],
   "source": [
    "##### append, insert, pop, remove\n",
    "lst_a.append(21)\n",
    "print(lst_a)\n",
    "lst_a.append(23)\n",
    "print(lst_a)\n",
    "lst_a.insert(0, -1)\n",
    "print(lst_a)\n",
    "lst_a.insert(5, 100)\n",
    "print(lst_a, end='\\n\\n')\n",
    "\n",
    "lst_a.pop()\n",
    "print(lst_a)\n",
    "lst_a.pop()\n",
    "print(lst_a)\n",
    "lst_a.pop(0) # not recommend (low efficiency)\n",
    "print(lst_a, end='\\n\\n')\n",
    "\n",
    "lst_a.remove(100) # remove one element from the list\n",
    "print(lst_a)\n",
    "lst_a.remove(11) # remove one element from the list\n",
    "print(lst_a, end='\\n\\n')\n",
    "# lst_a.remove(105) # gets a `ValueError` as the element `105` is not available, \n",
    "\n",
    "del lst_a[3] # delete the third element in the list\n",
    "print(lst_a)\n",
    "del lst_a[5] # delete the third element in the list\n",
    "print(lst_a)\n",
    "# del lst_a[10] # IndexError: list assignment index out of range\n"
   ]
  },
  {
   "cell_type": "code",
   "execution_count": 109,
   "id": "4463dafa",
   "metadata": {},
   "outputs": [
    {
     "name": "stdout",
     "output_type": "stream",
     "text": [
      "[1, 3, 5, 9, 13, 17, 19, [25, 27, 29]]\n",
      "\n",
      "[1, 3, 5, 7, 9]  xxxxx [10, 12, 14, 16, 18]\n",
      "[1, 3, 5, 7, 9, 10, 12, 14, 16, 18]\n",
      "\n",
      "[1, 3, 5, 7, 9, 10, 12, 14, 16, 18, 10, 12, 14, 16, 18]\n",
      "[1, 3, 5, 7, 9, 10, 12, 14, 16, 18, 10, 12, 14, 16, 18, [10, 12, 14, 16, 18]]\n"
     ]
    }
   ],
   "source": [
    "lst_a.append([25, 27, 29]) # now lst_a is a nested list\n",
    "print(lst_a, end='\\n\\n')\n",
    "\n",
    "lst_a = [x for x in range(10) if x%2 == 1]\n",
    "lst_b = [x for x in range(10, 20) if x%2 == 0]\n",
    "print(lst_a, lst_b, sep='  xxxxx ')\n",
    "lst_c = lst_a + lst_b\n",
    "print(lst_c, end='\\n\\n')\n",
    "\n",
    "# list.extend(list) vs list.append(list) vs list.append(item)\n",
    "lst_c.extend(lst_b) # now lst_c is a list\n",
    "print(lst_c)\n",
    "lst_c.append(lst_b) # now lst_c is a nested list\n",
    "print(lst_c)"
   ]
  },
  {
   "cell_type": "markdown",
   "id": "fd2b2857",
   "metadata": {},
   "source": [
    "### indexing is similar to that for strings"
   ]
  },
  {
   "cell_type": "code",
   "execution_count": 117,
   "id": "e8fba0e2",
   "metadata": {},
   "outputs": [
    {
     "name": "stdout",
     "output_type": "stream",
     "text": [
      "[0, 1, 2, 3, 6, 7, 8, 9]\n",
      "\n",
      "[0, 1, 2, 3, 6, 7, 8, 9]\n",
      "[2, 0, 9, 1, 6, 3, 8, 7]\n"
     ]
    }
   ],
   "source": [
    "# sorting lists\n",
    "lst_a = [2, 0, 9, 1, 6, 3, 8, 7]\n",
    "lst_a.sort()\n",
    "print(lst_a, end='\\n\\n')\n",
    "\n",
    "lst_a = [2, 0, 9, 1, 6, 3, 8, 7]\n",
    "lst_b = sorted(lst_a)\n",
    "print(lst_b)\n",
    "print(lst_a)"
   ]
  },
  {
   "cell_type": "code",
   "execution_count": 119,
   "id": "145576a9",
   "metadata": {},
   "outputs": [
    {
     "name": "stdout",
     "output_type": "stream",
     "text": [
      "[7, 8, 3, 6, 1, 9, 0, 2]\n",
      "[2, 0, 9, 1, 6, 3, 8, 7]\n"
     ]
    }
   ],
   "source": [
    "lst_a = [2, 0, 9, 1, 6, 3, 8, 7]\n",
    "lst_a.reverse()\n",
    "print(lst_a)\n",
    "lst_a.reverse()\n",
    "print(lst_a)"
   ]
  },
  {
   "cell_type": "code",
   "execution_count": 124,
   "id": "77da75b9",
   "metadata": {},
   "outputs": [
    {
     "name": "stdout",
     "output_type": "stream",
     "text": [
      "ID of lst_a =  4382055808\n",
      "ID of lst_b =  4382055808\n",
      "ID of lst_c =  4382048640\n",
      "\n",
      "After append 9, lst_a = [1, 5, [7, 11], 9]\n",
      "After append 9, lst_b = [1, 5, [7, 11], 9]\n",
      "After append 9, lst_c = [1, 5, [7, 11]]\n",
      "\n",
      "After append 13 in sublist, lst_a = [1, 5, [7, 11, 13], 9]\n",
      "After append 13 in sublist, lst_b = [1, 5, [7, 11, 13], 9]\n",
      "After append 13 in sublist, lst_c = [1, 5, [7, 11, 13]]\n"
     ]
    }
   ],
   "source": [
    "# shallow copy vs deep copy\n",
    "lst_a = [1, 5, [7, 11]]\n",
    "lst_b = lst_a\n",
    "lst_c = lst_a[:]\n",
    "print(\"ID of lst_a = \", id(lst_a)) # `id()` to get the physical address in the memory\n",
    "print(\"ID of lst_b = \", id(lst_b))\n",
    "print(\"ID of lst_c = \", id(lst_c))\n",
    "print()\n",
    "\n",
    "lst_a.append(9)\n",
    "print(\"After append 9, lst_a =\", lst_a)\n",
    "print(\"After append 9, lst_b =\", lst_b)\n",
    "print(\"After append 9, lst_c =\", lst_c)\n",
    "print()\n",
    "\n",
    "lst_a[2].append(13)\n",
    "print(\"After append 13 in sublist, lst_a =\", lst_a)\n",
    "print(\"After append 13 in sublist, lst_b =\", lst_b)\n",
    "print(\"After append 13 in sublist, lst_c =\", lst_c)\n"
   ]
  },
  {
   "cell_type": "code",
   "execution_count": null,
   "id": "5235f5c3",
   "metadata": {},
   "outputs": [],
   "source": []
  }
 ],
 "metadata": {
  "kernelspec": {
   "display_name": "Python 3 (ipykernel)",
   "language": "python",
   "name": "python3"
  },
  "language_info": {
   "codemirror_mode": {
    "name": "ipython",
    "version": 3
   },
   "file_extension": ".py",
   "mimetype": "text/x-python",
   "name": "python",
   "nbconvert_exporter": "python",
   "pygments_lexer": "ipython3",
   "version": "3.10.9"
  }
 },
 "nbformat": 4,
 "nbformat_minor": 5
}
