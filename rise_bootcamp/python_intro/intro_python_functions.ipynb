{
 "cells": [
  {
   "cell_type": "markdown",
   "id": "ca84ab77",
   "metadata": {},
   "source": [
    "# Introduction to Python --- Functions"
   ]
  },
  {
   "cell_type": "markdown",
   "id": "d835cde7",
   "metadata": {},
   "source": [
    "## Build-in Functions"
   ]
  },
  {
   "cell_type": "code",
   "execution_count": 1,
   "id": "8aeaae95",
   "metadata": {},
   "outputs": [],
   "source": [
    "# https://docs.python.org/3/library/functions.html"
   ]
  },
  {
   "cell_type": "markdown",
   "id": "532598f4",
   "metadata": {},
   "source": [
    "## Self-defined functions"
   ]
  },
  {
   "cell_type": "code",
   "execution_count": 31,
   "id": "1df23a5b",
   "metadata": {},
   "outputs": [
    {
     "name": "stdout",
     "output_type": "stream",
     "text": [
      "Hello, Python!\n"
     ]
    }
   ],
   "source": [
    "def print_hello():\n",
    "    print(\"Hello, Python!\")\n",
    "\n",
    "# call this function\n",
    "print_hello()"
   ]
  },
  {
   "cell_type": "code",
   "execution_count": 5,
   "id": "70ed6d50",
   "metadata": {},
   "outputs": [
    {
     "name": "stdout",
     "output_type": "stream",
     "text": [
      "I am learning C for programming.\n",
      "I am learning Python for programming.\n",
      "I am learning Julia for programming.\n",
      "I am learning Fortran for programming.\n"
     ]
    }
   ],
   "source": [
    "def print_lang(lang):\n",
    "    print(f\"I am learning {lang} for programming.\")\n",
    "\n",
    "langs = ['C', 'Python', 'Julia', 'Fortran']\n",
    "for lang in langs:\n",
    "    print_lang(lang)"
   ]
  },
  {
   "cell_type": "code",
   "execution_count": 9,
   "id": "4cae7ca8",
   "metadata": {},
   "outputs": [
    {
     "name": "stdout",
     "output_type": "stream",
     "text": [
      "I am using Python for Proj_A\n",
      "I am using C/C++ for Proj_B\n",
      "I am using Proj_C for Fortran\n",
      "I am using Fortran for Proj_C\n"
     ]
    }
   ],
   "source": [
    "def proj_info(lang, proj):\n",
    "    print(f\"I am using {lang} for {proj}\")\n",
    "\n",
    "proj_info(\"Python\", \"Proj_A\")\n",
    "proj_info(\"C/C++\", \"Proj_B\")\n",
    "proj_info(\"Proj_C\", \"Fortran\") # the order to two arguments is not correct\n",
    "proj_info(proj=\"Proj_C\", lang=\"Fortran\") # this works"
   ]
  },
  {
   "cell_type": "code",
   "execution_count": 8,
   "id": "637e756c",
   "metadata": {},
   "outputs": [
    {
     "name": "stdout",
     "output_type": "stream",
     "text": [
      "I am using Python for Proj_A in 2023\n",
      "I am using C/C++ for Proj_B in 2023\n",
      "I am using Julia for Proj_C in 2024\n"
     ]
    }
   ],
   "source": [
    "def proj_info(lang, proj='Proj_A', year=2023):\n",
    "    print(f\"I am using {lang} for {proj} in {year}\")\n",
    "\n",
    "proj_info(\"Python\")\n",
    "proj_info(\"C/C++\", \"Proj_B\")\n",
    "proj_info(\"Julia\", \"Proj_C\", 2024)"
   ]
  },
  {
   "cell_type": "code",
   "execution_count": 17,
   "id": "f5efdb57",
   "metadata": {},
   "outputs": [
    {
     "name": "stdout",
     "output_type": "stream",
     "text": [
      "I am using Python, Julia, C, Fortran, and Rust for Proj_A.\n",
      "I am using Python, Julia, C, Fortran, and Rust for Proj_A.\n",
      "I am using Python, C, Fortran, Rust, and Julia for Proj_A.\n",
      "I am using Python, Julia, C, Fortran, and Rust for Proj_A.\n",
      "I am using C, Fortran, Rust, Python, and Julia for Proj_A.\n"
     ]
    }
   ],
   "source": [
    "def proj_info(lang_a, lang_b, lang_c, lang_d, lang_e):\n",
    "    print(f\"I am using {lang_a}, {lang_b}, {lang_c}, {lang_d}, and {lang_e} for Proj_A.\")\n",
    "    \n",
    "proj_info(\"Python\", \"Julia\", \"C\", \"Fortran\", \"Rust\")\n",
    "\n",
    "temp_lang = \"C\", \"Fortran\", \"Rust\" # this is a tuple\n",
    "proj_info(\"Python\", \"Julia\", *temp_lang)\n",
    "proj_info(\"Python\", *temp_lang, \"Julia\")\n",
    "proj_info(\"Python\", \"Julia\", *(\"C\", \"Fortran\", \"Rust\"))\n",
    "\n",
    "temp_lang = [\"C\", \"Fortran\", \"Rust\"] # this is a list\n",
    "proj_info(*temp_lang, \"Python\", \"Julia\")"
   ]
  },
  {
   "cell_type": "code",
   "execution_count": 34,
   "id": "df76b136",
   "metadata": {},
   "outputs": [
    {
     "name": "stdout",
     "output_type": "stream",
     "text": [
      "My name is abc, and I am 33 years old.\n",
      "I am learning Python for programming\n",
      "I am learning Julia for programming\n",
      "WORKING at Stockholm\n",
      "LIVING at Linkoping\n",
      "Travelling to Helsinki\n",
      "\n",
      "My name is abc, and I am 33 years old.\n",
      "I am learning Python for programming\n",
      "I am learning Julia for programming\n",
      "WORKING at Kista\n",
      "LIVING at Linkoping\n",
      "Travelling to Helsinki\n"
     ]
    }
   ],
   "source": [
    "def person_info(name, age, *langs, **cities): # langs is a tuple，cities is a dictionary\n",
    "    print(f\"My name is {name}, and I am {age} years old.\")\n",
    "    for lang in langs:\n",
    "        print(f\"I am learning {lang} for programming\")\n",
    "    for key, value in cities.items():\n",
    "        if key == 'travelling':\n",
    "            print(f\"{key.title()} to {value}\")\n",
    "        else:\n",
    "            print(f\"{key.upper()} at {value}\")\n",
    "\n",
    "person_info(\"abc\", 33, \"Python\", 'Julia', working=\"Stockholm\", living=\"Linkoping\", travelling=\"Helsinki\")\n",
    "print()\n",
    "\n",
    "langs = [\"Python\", 'Julia']\n",
    "places = dict(working=\"Kista\", living=\"Linkoping\", travelling=\"Helsinki\")\n",
    "person_info(\"abc\", 33, *langs, **places)"
   ]
  },
  {
   "cell_type": "code",
   "execution_count": 35,
   "id": "622217c7",
   "metadata": {},
   "outputs": [
    {
     "name": "stdout",
     "output_type": "stream",
     "text": [
      "p1=1, p2=2, p3=0, vart=(), kw ={}\n",
      "p1=1, p2=2, p3=0, vart=(), kw ={'c': 3}\n",
      "p1=1, p2=2, p3=3, vart=('a', 'b', 'c'), kw ={}\n",
      "p1=1, p2=2, p3=3, vart=('abc',), kw ={'x': 9, 'y': 8}\n"
     ]
    }
   ],
   "source": [
    "def exp(p1, p2, p3=0, *vart, **kw):\n",
    "    print(f'p1={p1}, p2={p2}, p3={p3}, vart={vart}, kw ={kw}')\n",
    "\n",
    "exp(1, 2)\n",
    "exp(1, 2, c=3)\n",
    "exp(1, 2, 3, 'a', 'b', 'c')\n",
    "exp(1, 2, 3, 'abc', x=9, y=8)"
   ]
  },
  {
   "cell_type": "code",
   "execution_count": 43,
   "id": "21e1dacc",
   "metadata": {},
   "outputs": [
    {
     "name": "stdout",
     "output_type": "stream",
     "text": [
      "c[0]= 9  and c[1] =  3\n",
      "c1 =  9  and c2 =    3\n"
     ]
    }
   ],
   "source": [
    "def add_sub(a, b):\n",
    "    return a+b, a-b\n",
    "\n",
    "c = add_sub(6, 3)\n",
    "print(\"c[0]=\", c[0], \" and c[1] = \", c[1])\n",
    "\n",
    "c1, c2 = add_sub(6, 3)\n",
    "print(\"c1 = \", c1, \" and c2 =   \", c2)"
   ]
  },
  {
   "cell_type": "code",
   "execution_count": null,
   "id": "6c335cc1",
   "metadata": {},
   "outputs": [],
   "source": []
  }
 ],
 "metadata": {
  "kernelspec": {
   "display_name": "Python 3 (ipykernel)",
   "language": "python",
   "name": "python3"
  },
  "language_info": {
   "codemirror_mode": {
    "name": "ipython",
    "version": 3
   },
   "file_extension": ".py",
   "mimetype": "text/x-python",
   "name": "python",
   "nbconvert_exporter": "python",
   "pygments_lexer": "ipython3",
   "version": "3.10.9"
  }
 },
 "nbformat": 4,
 "nbformat_minor": 5
}
